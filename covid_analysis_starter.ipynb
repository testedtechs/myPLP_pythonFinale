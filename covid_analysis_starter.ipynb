{
 "cells": [
  {
   "cell_type": "markdown",
   "id": "cb72aa18",
   "metadata": {},
   "source": [
    "# COVID-19 Data Analysis Starter Notebook\n",
    "This notebook uses the Our World in Data (OWID) COVID-19 dataset."
   ]
  },
  {
   "cell_type": "code",
   "execution_count": null,
   "id": "6b989ddc",
   "metadata": {},
   "outputs": [],
   "source": [
    "# Step 1: Import Libraries\n",
    "import pandas as pd\n",
    "import matplotlib.pyplot as plt\n",
    "import seaborn as sns\n",
    "\n",
    "# Optional for interactive visualizations\n",
    "# import plotly.express as px\n"
   ]
  },
  {
   "cell_type": "code",
   "execution_count": null,
   "id": "d7a64fc4",
   "metadata": {},
   "outputs": [],
   "source": [
    "# Step 2: Load Dataset\n",
    "df = pd.read_csv('data/owid-covid-data.csv')\n"
   ]
  },
  {
   "cell_type": "code",
   "execution_count": null,
   "id": "c37fc155",
   "metadata": {},
   "outputs": [],
   "source": [
    "# Step 3: Explore Data\n",
    "print(\"Columns:\\n\", df.columns)\n",
    "print(\"\\nData types:\\n\", df.dtypes)\n",
    "print(\"\\nMissing values:\\n\", df.isnull().sum())\n",
    "\n",
    "# Preview dataset\n",
    "df.head()\n"
   ]
  },
  {
   "cell_type": "code",
   "execution_count": null,
   "id": "86cdd48b",
   "metadata": {},
   "outputs": [],
   "source": [
    "# Step 4: Clean Data\n",
    "# Keep selected countries\n",
    "countries = ['Kenya', 'United States', 'India']\n",
    "df = df[df['location'].isin(countries)]\n",
    "\n",
    "# Convert date to datetime\n",
    "df['date'] = pd.to_datetime(df['date'])\n",
    "\n",
    "# Drop rows with missing critical values\n",
    "df = df.dropna(subset=['total_cases', 'total_deaths'])\n",
    "\n",
    "# Fill or interpolate other values\n",
    "df['total_vaccinations'] = df['total_vaccinations'].interpolate()\n"
   ]
  },
  {
   "cell_type": "code",
   "execution_count": null,
   "id": "94a0bef0",
   "metadata": {},
   "outputs": [],
   "source": [
    "# Step 5: EDA - Cases Over Time\n",
    "plt.figure(figsize=(12, 6))\n",
    "for country in countries:\n",
    "    subset = df[df['location'] == country]\n",
    "    plt.plot(subset['date'], subset['total_cases'], label=country)\n",
    "\n",
    "plt.title('Total COVID-19 Cases Over Time')\n",
    "plt.xlabel('Date')\n",
    "plt.ylabel('Total Cases')\n",
    "plt.legend()\n",
    "plt.grid(True)\n",
    "plt.tight_layout()\n",
    "plt.show()\n"
   ]
  },
  {
   "cell_type": "code",
   "execution_count": null,
   "id": "c0cc56d9",
   "metadata": {},
   "outputs": [],
   "source": [
    "# Step 6: Daily New Cases Comparison\n",
    "plt.figure(figsize=(12, 6))\n",
    "for country in countries:\n",
    "    subset = df[df['location'] == country]\n",
    "    plt.plot(subset['date'], subset['new_cases'], label=country)\n",
    "\n",
    "plt.title('Daily New COVID-19 Cases')\n",
    "plt.xlabel('Date')\n",
    "plt.ylabel('New Cases')\n",
    "plt.legend()\n",
    "plt.grid(True)\n",
    "plt.tight_layout()\n",
    "plt.show()\n"
   ]
  },
  {
   "cell_type": "code",
   "execution_count": null,
   "id": "b54fc51f",
   "metadata": {},
   "outputs": [],
   "source": [
    "# Step 7: Vaccination Progress\n",
    "plt.figure(figsize=(12, 6))\n",
    "for country in countries:\n",
    "    subset = df[df['location'] == country]\n",
    "    plt.plot(subset['date'], subset['total_vaccinations'], label=country)\n",
    "\n",
    "plt.title('Total Vaccinations Over Time')\n",
    "plt.xlabel('Date')\n",
    "plt.ylabel('Total Vaccinations')\n",
    "plt.legend()\n",
    "plt.grid(True)\n",
    "plt.tight_layout()\n",
    "plt.show()\n"
   ]
  },
  {
   "cell_type": "code",
   "execution_count": null,
   "id": "270b0f64",
   "metadata": {},
   "outputs": [],
   "source": [
    "# Step 8: Calculate Death Rate\n",
    "df['death_rate'] = df['total_deaths'] / df['total_cases']\n",
    "\n",
    "# Plot death rate (rolling average for smoothness)\n",
    "plt.figure(figsize=(12, 6))\n",
    "for country in countries:\n",
    "    subset = df[df['location'] == country].copy()\n",
    "    subset['death_rate_smoothed'] = subset['death_rate'].rolling(window=7).mean()\n",
    "    plt.plot(subset['date'], subset['death_rate_smoothed'], label=country)\n",
    "\n",
    "plt.title('Death Rate (7-Day Rolling Avg)')\n",
    "plt.xlabel('Date')\n",
    "plt.ylabel('Death Rate')\n",
    "plt.legend()\n",
    "plt.grid(True)\n",
    "plt.tight_layout()\n",
    "plt.show()\n"
   ]
  }
 ],
 "metadata": {},
 "nbformat": 4,
 "nbformat_minor": 5
}
